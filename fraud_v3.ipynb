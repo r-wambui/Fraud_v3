{
 "cells": [
  {
   "cell_type": "markdown",
   "metadata": {},
   "source": [
    "## Introduction\n",
    "Fraud risk is everywhere, but for companies that advertise online, click fraud can happen at an overwhelming volume, resulting in misleading click data and wasted money. Ad channels can drive up costs by simply clicking on the ad at a large scale. With over 1 billion smart mobile devices in active use every month, China is the largest mobile market in the world and therefore suffers from huge volumes of fradulent traffic.\n",
    "\n",
    "TalkingData, China’s largest independent big data service platform, covers over 70% of active mobile devices nationwide. They handle 3 billion clicks per day, of which 90% are potentially fraudulent. Their current approach to prevent click fraud for app developers is to measure the journey of a user’s click across their portfolio, and flag IP addresses who produce lots of clicks, but never end up installing apps. With this information, they've built an IP blacklist and device blacklist.\n",
    "\n",
    "While successful, they want to always be one step ahead of fraudsters and have turned to the Kaggle community for help in further developing their solution. In their 2nd competition with Kaggle, you’re challenged to build an algorithm that predicts whether a user will download an app after clicking a mobile app ad. To support your modeling, they have provided a generous dataset covering approximately 200 million clicks over 4 days!"
   ]
  },
  {
   "cell_type": "markdown",
   "metadata": {},
   "source": [
    "### Importing the data and python packages"
   ]
  },
  {
   "cell_type": "code",
   "execution_count": 1,
   "metadata": {},
   "outputs": [],
   "source": [
    "import pandas as pd\n",
    "import numpy as np\n",
    "import sklearn\n",
    "import gc"
   ]
  },
  {
   "cell_type": "code",
   "execution_count": 2,
   "metadata": {},
   "outputs": [
    {
     "data": {
      "text/html": [
       "<div>\n",
       "<style scoped>\n",
       "    .dataframe tbody tr th:only-of-type {\n",
       "        vertical-align: middle;\n",
       "    }\n",
       "\n",
       "    .dataframe tbody tr th {\n",
       "        vertical-align: top;\n",
       "    }\n",
       "\n",
       "    .dataframe thead th {\n",
       "        text-align: right;\n",
       "    }\n",
       "</style>\n",
       "<table border=\"1\" class=\"dataframe\">\n",
       "  <thead>\n",
       "    <tr style=\"text-align: right;\">\n",
       "      <th></th>\n",
       "      <th>click_id</th>\n",
       "      <th>ip</th>\n",
       "      <th>app</th>\n",
       "      <th>device</th>\n",
       "      <th>os</th>\n",
       "      <th>channel</th>\n",
       "      <th>click_time</th>\n",
       "    </tr>\n",
       "  </thead>\n",
       "  <tbody>\n",
       "    <tr>\n",
       "      <th>3804646</th>\n",
       "      <td>3804646</td>\n",
       "      <td>71323</td>\n",
       "      <td>3</td>\n",
       "      <td>1</td>\n",
       "      <td>19</td>\n",
       "      <td>130</td>\n",
       "      <td>2017-11-10 05:08:57</td>\n",
       "    </tr>\n",
       "    <tr>\n",
       "      <th>16138412</th>\n",
       "      <td>16138412</td>\n",
       "      <td>97127</td>\n",
       "      <td>9</td>\n",
       "      <td>2</td>\n",
       "      <td>13</td>\n",
       "      <td>442</td>\n",
       "      <td>2017-11-10 14:10:54</td>\n",
       "    </tr>\n",
       "    <tr>\n",
       "      <th>8464873</th>\n",
       "      <td>8464873</td>\n",
       "      <td>1456</td>\n",
       "      <td>18</td>\n",
       "      <td>1</td>\n",
       "      <td>17</td>\n",
       "      <td>107</td>\n",
       "      <td>2017-11-10 09:45:49</td>\n",
       "    </tr>\n",
       "    <tr>\n",
       "      <th>17689005</th>\n",
       "      <td>17689005</td>\n",
       "      <td>100571</td>\n",
       "      <td>23</td>\n",
       "      <td>1</td>\n",
       "      <td>22</td>\n",
       "      <td>153</td>\n",
       "      <td>2017-11-10 14:38:28</td>\n",
       "    </tr>\n",
       "    <tr>\n",
       "      <th>11246353</th>\n",
       "      <td>11246353</td>\n",
       "      <td>39158</td>\n",
       "      <td>9</td>\n",
       "      <td>1</td>\n",
       "      <td>16</td>\n",
       "      <td>334</td>\n",
       "      <td>2017-11-10 10:39:34</td>\n",
       "    </tr>\n",
       "  </tbody>\n",
       "</table>\n",
       "</div>"
      ],
      "text/plain": [
       "          click_id      ip  app  device  os  channel           click_time\n",
       "3804646    3804646   71323    3       1  19      130  2017-11-10 05:08:57\n",
       "16138412  16138412   97127    9       2  13      442  2017-11-10 14:10:54\n",
       "8464873    8464873    1456   18       1  17      107  2017-11-10 09:45:49\n",
       "17689005  17689005  100571   23       1  22      153  2017-11-10 14:38:28\n",
       "11246353  11246353   39158    9       1  16      334  2017-11-10 10:39:34"
      ]
     },
     "execution_count": 2,
     "metadata": {},
     "output_type": "execute_result"
    }
   ],
   "source": [
    "test_data = pd.read_csv('data/test.csv')\n",
    "test_data.sample(5)"
   ]
  },
  {
   "cell_type": "code",
   "execution_count": 3,
   "metadata": {},
   "outputs": [
    {
     "data": {
      "text/html": [
       "<div>\n",
       "<style scoped>\n",
       "    .dataframe tbody tr th:only-of-type {\n",
       "        vertical-align: middle;\n",
       "    }\n",
       "\n",
       "    .dataframe tbody tr th {\n",
       "        vertical-align: top;\n",
       "    }\n",
       "\n",
       "    .dataframe thead th {\n",
       "        text-align: right;\n",
       "    }\n",
       "</style>\n",
       "<table border=\"1\" class=\"dataframe\">\n",
       "  <thead>\n",
       "    <tr style=\"text-align: right;\">\n",
       "      <th></th>\n",
       "      <th>ip</th>\n",
       "      <th>app</th>\n",
       "      <th>device</th>\n",
       "      <th>os</th>\n",
       "      <th>channel</th>\n",
       "      <th>click_time</th>\n",
       "      <th>attributed_time</th>\n",
       "      <th>is_attributed</th>\n",
       "    </tr>\n",
       "  </thead>\n",
       "  <tbody>\n",
       "    <tr>\n",
       "      <th>1778914</th>\n",
       "      <td>44422</td>\n",
       "      <td>2</td>\n",
       "      <td>1</td>\n",
       "      <td>13</td>\n",
       "      <td>435</td>\n",
       "      <td>2017-11-06 16:43:09</td>\n",
       "      <td>NaN</td>\n",
       "      <td>0</td>\n",
       "    </tr>\n",
       "    <tr>\n",
       "      <th>5219709</th>\n",
       "      <td>38265</td>\n",
       "      <td>3</td>\n",
       "      <td>1</td>\n",
       "      <td>17</td>\n",
       "      <td>137</td>\n",
       "      <td>2017-11-06 21:00:22</td>\n",
       "      <td>NaN</td>\n",
       "      <td>0</td>\n",
       "    </tr>\n",
       "    <tr>\n",
       "      <th>36837117</th>\n",
       "      <td>90965</td>\n",
       "      <td>3</td>\n",
       "      <td>1</td>\n",
       "      <td>15</td>\n",
       "      <td>280</td>\n",
       "      <td>2017-11-07 08:33:55</td>\n",
       "      <td>NaN</td>\n",
       "      <td>0</td>\n",
       "    </tr>\n",
       "    <tr>\n",
       "      <th>36916202</th>\n",
       "      <td>99047</td>\n",
       "      <td>12</td>\n",
       "      <td>1</td>\n",
       "      <td>19</td>\n",
       "      <td>328</td>\n",
       "      <td>2017-11-07 08:35:39</td>\n",
       "      <td>NaN</td>\n",
       "      <td>0</td>\n",
       "    </tr>\n",
       "    <tr>\n",
       "      <th>8175864</th>\n",
       "      <td>191642</td>\n",
       "      <td>2</td>\n",
       "      <td>1</td>\n",
       "      <td>13</td>\n",
       "      <td>122</td>\n",
       "      <td>2017-11-06 23:34:45</td>\n",
       "      <td>NaN</td>\n",
       "      <td>0</td>\n",
       "    </tr>\n",
       "  </tbody>\n",
       "</table>\n",
       "</div>"
      ],
      "text/plain": [
       "              ip  app  device  os  channel           click_time  \\\n",
       "1778914    44422    2       1  13      435  2017-11-06 16:43:09   \n",
       "5219709    38265    3       1  17      137  2017-11-06 21:00:22   \n",
       "36837117   90965    3       1  15      280  2017-11-07 08:33:55   \n",
       "36916202   99047   12       1  19      328  2017-11-07 08:35:39   \n",
       "8175864   191642    2       1  13      122  2017-11-06 23:34:45   \n",
       "\n",
       "         attributed_time  is_attributed  \n",
       "1778914              NaN              0  \n",
       "5219709              NaN              0  \n",
       "36837117             NaN              0  \n",
       "36916202             NaN              0  \n",
       "8175864              NaN              0  "
      ]
     },
     "execution_count": 3,
     "metadata": {},
     "output_type": "execute_result"
    }
   ],
   "source": [
    "train_data = pd.read_csv('data/train.csv', nrows=40000000)\n",
    "train_data.sample(5)"
   ]
  },
  {
   "cell_type": "markdown",
   "metadata": {},
   "source": [
    "### Check for missing values"
   ]
  },
  {
   "cell_type": "code",
   "execution_count": 4,
   "metadata": {},
   "outputs": [
    {
     "data": {
      "text/plain": [
       "ip                        0\n",
       "app                       0\n",
       "device                    0\n",
       "os                        0\n",
       "channel                   0\n",
       "click_time                0\n",
       "attributed_time    39896766\n",
       "is_attributed             0\n",
       "dtype: int64"
      ]
     },
     "execution_count": 4,
     "metadata": {},
     "output_type": "execute_result"
    }
   ],
   "source": [
    "missing_values_count = train_data.isnull().sum()\n",
    "missing_values_count"
   ]
  },
  {
   "cell_type": "markdown",
   "metadata": {},
   "source": [
    "We only have missing values in the atttributed_time. You can choose to drop the columm or fill the missing the values. I will fill the missing data."
   ]
  },
  {
   "cell_type": "code",
   "execution_count": 5,
   "metadata": {},
   "outputs": [],
   "source": [
    "train_data = train_data.fillna(0)"
   ]
  },
  {
   "cell_type": "code",
   "execution_count": 6,
   "metadata": {},
   "outputs": [
    {
     "data": {
      "text/plain": [
       "click_id      0\n",
       "ip            0\n",
       "app           0\n",
       "device        0\n",
       "os            0\n",
       "channel       0\n",
       "click_time    0\n",
       "dtype: int64"
      ]
     },
     "execution_count": 6,
     "metadata": {},
     "output_type": "execute_result"
    }
   ],
   "source": [
    "# missing test_data\n",
    "missing_values_count = test_data.isnull().sum()\n",
    "missing_values_count"
   ]
  },
  {
   "cell_type": "markdown",
   "metadata": {},
   "source": [
    "### Change the datetime field"
   ]
  },
  {
   "cell_type": "code",
   "execution_count": 7,
   "metadata": {},
   "outputs": [],
   "source": [
    "def change_date(df, time):\n",
    "    r_time = pd.to_datetime(time)\n",
    "    df['hour'] = pd.to_datetime(r_time).dt.hour.astype('uint8')\n",
    "    df['day'] = pd.to_datetime(r_time).dt.day.astype('uint8')\n",
    "    return df"
   ]
  },
  {
   "cell_type": "code",
   "execution_count": 8,
   "metadata": {},
   "outputs": [
    {
     "data": {
      "text/html": [
       "<div>\n",
       "<style scoped>\n",
       "    .dataframe tbody tr th:only-of-type {\n",
       "        vertical-align: middle;\n",
       "    }\n",
       "\n",
       "    .dataframe tbody tr th {\n",
       "        vertical-align: top;\n",
       "    }\n",
       "\n",
       "    .dataframe thead th {\n",
       "        text-align: right;\n",
       "    }\n",
       "</style>\n",
       "<table border=\"1\" class=\"dataframe\">\n",
       "  <thead>\n",
       "    <tr style=\"text-align: right;\">\n",
       "      <th></th>\n",
       "      <th>click_id</th>\n",
       "      <th>ip</th>\n",
       "      <th>app</th>\n",
       "      <th>device</th>\n",
       "      <th>os</th>\n",
       "      <th>channel</th>\n",
       "      <th>click_time</th>\n",
       "      <th>hour</th>\n",
       "      <th>day</th>\n",
       "    </tr>\n",
       "  </thead>\n",
       "  <tbody>\n",
       "    <tr>\n",
       "      <th>12166024</th>\n",
       "      <td>12166024</td>\n",
       "      <td>46286</td>\n",
       "      <td>18</td>\n",
       "      <td>1</td>\n",
       "      <td>23</td>\n",
       "      <td>376</td>\n",
       "      <td>2017-11-10 10:57:06</td>\n",
       "      <td>10</td>\n",
       "      <td>10</td>\n",
       "    </tr>\n",
       "    <tr>\n",
       "      <th>18231471</th>\n",
       "      <td>18231471</td>\n",
       "      <td>47618</td>\n",
       "      <td>12</td>\n",
       "      <td>1</td>\n",
       "      <td>1</td>\n",
       "      <td>242</td>\n",
       "      <td>2017-11-10 14:49:01</td>\n",
       "      <td>14</td>\n",
       "      <td>10</td>\n",
       "    </tr>\n",
       "    <tr>\n",
       "      <th>17350573</th>\n",
       "      <td>17350573</td>\n",
       "      <td>5348</td>\n",
       "      <td>3</td>\n",
       "      <td>1</td>\n",
       "      <td>19</td>\n",
       "      <td>442</td>\n",
       "      <td>2017-11-10 14:32:32</td>\n",
       "      <td>14</td>\n",
       "      <td>10</td>\n",
       "    </tr>\n",
       "    <tr>\n",
       "      <th>9521792</th>\n",
       "      <td>9521792</td>\n",
       "      <td>112487</td>\n",
       "      <td>17</td>\n",
       "      <td>1</td>\n",
       "      <td>41</td>\n",
       "      <td>128</td>\n",
       "      <td>2017-11-10 10:06:26</td>\n",
       "      <td>10</td>\n",
       "      <td>10</td>\n",
       "    </tr>\n",
       "    <tr>\n",
       "      <th>1695495</th>\n",
       "      <td>1695495</td>\n",
       "      <td>29347</td>\n",
       "      <td>12</td>\n",
       "      <td>1</td>\n",
       "      <td>19</td>\n",
       "      <td>178</td>\n",
       "      <td>2017-11-10 04:29:48</td>\n",
       "      <td>4</td>\n",
       "      <td>10</td>\n",
       "    </tr>\n",
       "  </tbody>\n",
       "</table>\n",
       "</div>"
      ],
      "text/plain": [
       "          click_id      ip  app  device  os  channel           click_time  \\\n",
       "12166024  12166024   46286   18       1  23      376  2017-11-10 10:57:06   \n",
       "18231471  18231471   47618   12       1   1      242  2017-11-10 14:49:01   \n",
       "17350573  17350573    5348    3       1  19      442  2017-11-10 14:32:32   \n",
       "9521792    9521792  112487   17       1  41      128  2017-11-10 10:06:26   \n",
       "1695495    1695495   29347   12       1  19      178  2017-11-10 04:29:48   \n",
       "\n",
       "          hour  day  \n",
       "12166024    10   10  \n",
       "18231471    14   10  \n",
       "17350573    14   10  \n",
       "9521792     10   10  \n",
       "1695495      4   10  "
      ]
     },
     "execution_count": 8,
     "metadata": {},
     "output_type": "execute_result"
    }
   ],
   "source": [
    "# datetime on test.data\n",
    "change_date(test_data, test_data.click_time)\n",
    "test_data.sample(5)\n"
   ]
  },
  {
   "cell_type": "code",
   "execution_count": 9,
   "metadata": {},
   "outputs": [
    {
     "data": {
      "text/html": [
       "<div>\n",
       "<style scoped>\n",
       "    .dataframe tbody tr th:only-of-type {\n",
       "        vertical-align: middle;\n",
       "    }\n",
       "\n",
       "    .dataframe tbody tr th {\n",
       "        vertical-align: top;\n",
       "    }\n",
       "\n",
       "    .dataframe thead th {\n",
       "        text-align: right;\n",
       "    }\n",
       "</style>\n",
       "<table border=\"1\" class=\"dataframe\">\n",
       "  <thead>\n",
       "    <tr style=\"text-align: right;\">\n",
       "      <th></th>\n",
       "      <th>ip</th>\n",
       "      <th>app</th>\n",
       "      <th>device</th>\n",
       "      <th>os</th>\n",
       "      <th>channel</th>\n",
       "      <th>click_time</th>\n",
       "      <th>attributed_time</th>\n",
       "      <th>is_attributed</th>\n",
       "      <th>hour</th>\n",
       "      <th>day</th>\n",
       "    </tr>\n",
       "  </thead>\n",
       "  <tbody>\n",
       "    <tr>\n",
       "      <th>323899</th>\n",
       "      <td>105637</td>\n",
       "      <td>3</td>\n",
       "      <td>1</td>\n",
       "      <td>10</td>\n",
       "      <td>137</td>\n",
       "      <td>2017-11-06 16:06:12</td>\n",
       "      <td>0</td>\n",
       "      <td>0</td>\n",
       "      <td>16</td>\n",
       "      <td>6</td>\n",
       "    </tr>\n",
       "    <tr>\n",
       "      <th>11691830</th>\n",
       "      <td>14906</td>\n",
       "      <td>12</td>\n",
       "      <td>1</td>\n",
       "      <td>18</td>\n",
       "      <td>497</td>\n",
       "      <td>2017-11-07 00:39:30</td>\n",
       "      <td>0</td>\n",
       "      <td>0</td>\n",
       "      <td>0</td>\n",
       "      <td>7</td>\n",
       "    </tr>\n",
       "    <tr>\n",
       "      <th>3487924</th>\n",
       "      <td>115663</td>\n",
       "      <td>11</td>\n",
       "      <td>1</td>\n",
       "      <td>13</td>\n",
       "      <td>219</td>\n",
       "      <td>2017-11-06 17:54:53</td>\n",
       "      <td>0</td>\n",
       "      <td>0</td>\n",
       "      <td>17</td>\n",
       "      <td>6</td>\n",
       "    </tr>\n",
       "    <tr>\n",
       "      <th>39249879</th>\n",
       "      <td>84594</td>\n",
       "      <td>12</td>\n",
       "      <td>1</td>\n",
       "      <td>15</td>\n",
       "      <td>178</td>\n",
       "      <td>2017-11-07 09:24:18</td>\n",
       "      <td>0</td>\n",
       "      <td>0</td>\n",
       "      <td>9</td>\n",
       "      <td>7</td>\n",
       "    </tr>\n",
       "    <tr>\n",
       "      <th>29348276</th>\n",
       "      <td>125286</td>\n",
       "      <td>23</td>\n",
       "      <td>1</td>\n",
       "      <td>13</td>\n",
       "      <td>153</td>\n",
       "      <td>2017-11-07 05:58:48</td>\n",
       "      <td>0</td>\n",
       "      <td>0</td>\n",
       "      <td>5</td>\n",
       "      <td>7</td>\n",
       "    </tr>\n",
       "  </tbody>\n",
       "</table>\n",
       "</div>"
      ],
      "text/plain": [
       "              ip  app  device  os  channel           click_time  \\\n",
       "323899    105637    3       1  10      137  2017-11-06 16:06:12   \n",
       "11691830   14906   12       1  18      497  2017-11-07 00:39:30   \n",
       "3487924   115663   11       1  13      219  2017-11-06 17:54:53   \n",
       "39249879   84594   12       1  15      178  2017-11-07 09:24:18   \n",
       "29348276  125286   23       1  13      153  2017-11-07 05:58:48   \n",
       "\n",
       "         attributed_time  is_attributed  hour  day  \n",
       "323899                 0              0    16    6  \n",
       "11691830               0              0     0    7  \n",
       "3487924                0              0    17    6  \n",
       "39249879               0              0     9    7  \n",
       "29348276               0              0     5    7  "
      ]
     },
     "execution_count": 9,
     "metadata": {},
     "output_type": "execute_result"
    }
   ],
   "source": [
    "# change on train data\n",
    "change_date(train_data, train_data.click_time)\n",
    "train_data.sample(5)"
   ]
  },
  {
   "cell_type": "markdown",
   "metadata": {},
   "source": [
    "### Analyse the feature and group"
   ]
  },
  {
   "cell_type": "code",
   "execution_count": 10,
   "metadata": {},
   "outputs": [],
   "source": [
    "def group(dataset, g, x):\n",
    "    gp = dataset.groupby(by=g)[['channel']].count().reset_index().rename(index=str, columns={'channel': x})\n",
    "    dataset = dataset.merge(gp, on=g, how='left')\n",
    "    return dataset"
   ]
  },
  {
   "cell_type": "code",
   "execution_count": 11,
   "metadata": {},
   "outputs": [],
   "source": [
    "# ip-click_time_combination\n",
    "x = 'ip_tcount'\n",
    "g = ['ip','day','hour']\n",
    "test_data = group(test_data, g, x )\n",
    "train_data = group(train_data, g, x)"
   ]
  },
  {
   "cell_type": "code",
   "execution_count": 12,
   "metadata": {},
   "outputs": [],
   "source": [
    "# ip-app_os combination\n",
    "x = 'ip_app_os_count'\n",
    "g = ['ip','app','os']\n",
    "test_data = group(test_data, g, x )\n",
    "train_data = group(train_data, g, x)"
   ]
  },
  {
   "cell_type": "code",
   "execution_count": 13,
   "metadata": {},
   "outputs": [],
   "source": [
    "# ip-device_os combination\n",
    "x = 'ip_device_os_count'\n",
    "g = ['ip','device','os']\n",
    "test_data = group(test_data, g, x )\n",
    "train_data = group(train_data, g, x)"
   ]
  },
  {
   "cell_type": "code",
   "execution_count": 14,
   "metadata": {},
   "outputs": [],
   "source": [
    "# ip_app, device combination\n",
    "x = 'ip_app_device_os_count'\n",
    "g = ['ip', 'app', 'device', 'os']\n",
    "test_data = group(test_data, g, x)\n",
    "train_data = group(train_data, g, x)"
   ]
  },
  {
   "cell_type": "code",
   "execution_count": 15,
   "metadata": {},
   "outputs": [
    {
     "name": "stderr",
     "output_type": "stream",
     "text": [
      "/Users/rose/anaconda3/lib/python3.6/site-packages/sklearn/cross_validation.py:41: DeprecationWarning: This module was deprecated in version 0.18 in favor of the model_selection module into which all the refactored classes and functions are moved. Also note that the interface of the new CV iterators are different from that of this module. This module will be removed in 0.20.\n",
      "  \"This module will be removed in 0.20.\", DeprecationWarning)\n"
     ]
    },
    {
     "data": {
      "text/plain": [
       "(28000000, 11)"
      ]
     },
     "execution_count": 15,
     "metadata": {},
     "output_type": "execute_result"
    }
   ],
   "source": [
    "#  splitting the data\n",
    "from sklearn.cross_validation import train_test_split\n",
    "\n",
    "feature_colums = ['ip','app','device','os', 'channel', 'hour', 'day', \n",
    "              'ip_tcount', 'ip_app_os_count',\n",
    "              'ip_device_os_count', 'ip_app_device_os_count']\n",
    "label_colums = ['is_attributed']\n",
    "\n",
    "# Create features and labels\n",
    "X = train_data[feature_colums].values\n",
    "y = train_data[label_colums].values\n",
    "\n",
    "\n",
    "X_train, X_test, y_train, y_test = train_test_split(X, y, test_size=0.30, random_state=42)\n",
    "X_train.shape"
   ]
  },
  {
   "cell_type": "code",
   "execution_count": null,
   "metadata": {},
   "outputs": [
    {
     "name": "stdout",
     "output_type": "stream",
     "text": [
      "fittinh the model\n"
     ]
    },
    {
     "name": "stderr",
     "output_type": "stream",
     "text": [
      "/Users/rose/anaconda3/lib/python3.6/site-packages/sklearn/utils/validation.py:578: DataConversionWarning: A column-vector y was passed when a 1d array was expected. Please change the shape of y to (n_samples, ), for example using ravel().\n",
      "  y = column_or_1d(y, warn=True)\n"
     ]
    }
   ],
   "source": [
    "# training the model\n",
    "from sklearn.linear_model import LogisticRegression\n",
    "from sklearn.metrics import accuracy_score, roc_curve, auc, log_loss\n",
    "\n",
    "\n",
    "model = LogisticRegression()\n",
    "print('fittinh the model')\n",
    "model.fit(X_train, y_train)\n",
    "\n",
    "y_pred = model.predict(X_test)\n",
    "y_pred_proba = model.predict_proba(X_test)[:, 1]\n",
    "print(y_pred_proba)\n",
    "# false positive rate, true positive rate, threshold\n",
    "\n",
    "[fpr, tpr, thr] = roc_curve(y_test, y_pred_proba)\n",
    "\n",
    "print('results')\n",
    "print(\"accuracy \", accuracy_score(y_test, y_pred))\n",
    "print(\" log_loss \" ,  log_loss(y_test, y_pred_proba))\n",
    "print(\" auc is %2.3f\", auc(fpr, tpr))\n",
    "\n"
   ]
  },
  {
   "cell_type": "code",
   "execution_count": null,
   "metadata": {},
   "outputs": [],
   "source": [
    "# create ROC_AUC curve"
   ]
  },
  {
   "cell_type": "code",
   "execution_count": null,
   "metadata": {},
   "outputs": [],
   "source": [
    "# testing the model\n",
    "test_pred = pd.DataFrame()\n",
    "test_pred['click_id'] = test_data['click_id'].astype('int')\n",
    "test_pred.head()\n",
    "\n",
    "test_pred['is_attributed'] = model.predict(test_data[feature_colums])\n",
    "test_pred.to_csv('submission_sk.csv', index=False)"
   ]
  },
  {
   "cell_type": "code",
   "execution_count": null,
   "metadata": {},
   "outputs": [],
   "source": [
    "test_pred.head(5)"
   ]
  },
  {
   "cell_type": "code",
   "execution_count": null,
   "metadata": {},
   "outputs": [],
   "source": []
  }
 ],
 "metadata": {
  "kernelspec": {
   "display_name": "Python 3",
   "language": "python",
   "name": "python3"
  },
  "language_info": {
   "codemirror_mode": {
    "name": "ipython",
    "version": 3
   },
   "file_extension": ".py",
   "mimetype": "text/x-python",
   "name": "python",
   "nbconvert_exporter": "python",
   "pygments_lexer": "ipython3",
   "version": "3.6.4"
  }
 },
 "nbformat": 4,
 "nbformat_minor": 2
}
